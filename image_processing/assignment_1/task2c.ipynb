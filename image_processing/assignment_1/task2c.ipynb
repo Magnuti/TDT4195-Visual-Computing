{
 "cells": [
  {
   "cell_type": "code",
   "execution_count": null,
   "metadata": {},
   "outputs": [],
   "source": [
    "import matplotlib.pyplot as plt\n",
    "import pathlib\n",
    "import numpy as np\n",
    "from utils import read_im, save_im, normalize\n",
    "output_dir = pathlib.Path(\"image_solutions\")\n",
    "output_dir.mkdir(exist_ok=True)"
   ]
  },
  {
   "cell_type": "code",
   "execution_count": null,
   "metadata": {},
   "outputs": [],
   "source": [
    "im = read_im(pathlib.Path(\"images\", \"lake.jpg\"))\n",
    "plt.imshow(im)"
   ]
  },
  {
   "cell_type": "code",
   "execution_count": null,
   "metadata": {},
   "outputs": [],
   "source": [
    "def convolve_im(im, kernel,\n",
    "    ):\n",
    "    \"\"\" A function that convolves im with kernel\n",
    "    \n",
    "    Args:\n",
    "        im ([type]): [np.array of shape [H, W, 3]]\n",
    "        kernel ([type]): [np.array of shape [K, K]]\n",
    "    \n",
    "    Returns:\n",
    "        [type]: [np.array of shape [H, W, 3]. should be same as im]\n",
    "    \"\"\"\n",
    "    assert len(im.shape) == 3\n",
    "\n",
    "    return im"
   ]
  },
  {
   "cell_type": "code",
   "execution_count": null,
   "metadata": {},
   "outputs": [],
   "source": [
    "# Define the convolutional kernels\n",
    "h_a = np.ones((3, 3)) / 9\n",
    "sobel_x = np.array([\n",
    "    [-1, 0, 1],\n",
    "    [-2, 0, 2],\n",
    "    [-1, 0, 1]\n",
    "])\n",
    "\n",
    "# Convolve images\n",
    "im_smoothed = convolve_im(im.copy(), h_a)\n",
    "save_im(output_dir.joinpath(\"im_smoothed.jpg\"), im_smoothed)\n",
    "im_sobel = convolve_im(im, sobel_x)\n",
    "save_im(output_dir.joinpath(\"im_sobel.jpg\"), im_sobel)\n",
    "\n",
    "# DO NOT CHANGE. Checking that your function returns as expected\n",
    "assert isinstance(im_smoothed, np.ndarray),     f\"Your convolve function has to return a np.array. \" +    f\"Was: {type(im_smoothed)}\"\n",
    "assert im_smoothed.shape == im.shape,     f\"Expected smoothed im ({im_smoothed.shape}\" +     f\"to have same shape as im ({im.shape})\"\n",
    "assert im_sobel.shape == im.shape,     f\"Expected smoothed im ({im_sobel.shape}\" +     f\"to have same shape as im ({im.shape})\""
   ]
  },
  {
   "cell_type": "code",
   "execution_count": null,
   "metadata": {},
   "outputs": [],
   "source": [
    "plt.subplot(1, 2, 1)\n",
    "plt.imshow(normalize(im_smoothed))\n",
    "\n",
    "plt.subplot(1, 2, 2)\n",
    "plt.imshow(normalize(im_sobel))\n",
    "plt.show()"
   ]
  }
 ],
 "metadata": {},
 "nbformat": 4,
 "nbformat_minor": 4
}
